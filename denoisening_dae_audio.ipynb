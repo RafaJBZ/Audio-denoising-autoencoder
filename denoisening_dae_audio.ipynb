{
  "nbformat": 4,
  "nbformat_minor": 0,
  "metadata": {
    "colab": {
      "provenance": [],
      "mount_file_id": "1eQzMiT8ZsKRqDgepTvSPMhxG0yC0_Xaz",
      "authorship_tag": "ABX9TyNAfJt7UVWUazHW2sce97Jp",
      "include_colab_link": true
    },
    "kernelspec": {
      "name": "python3",
      "display_name": "Python 3"
    },
    "language_info": {
      "name": "python"
    }
  },
  "cells": [
    {
      "cell_type": "markdown",
      "metadata": {
        "id": "view-in-github",
        "colab_type": "text"
      },
      "source": [
        "<a href=\"https://colab.research.google.com/github/RafaJBZ/Audio-denoising-autoencoder/blob/main/denoisening_dae_audio.ipynb\" target=\"_parent\"><img src=\"https://colab.research.google.com/assets/colab-badge.svg\" alt=\"Open In Colab\"/></a>"
      ]
    },
    {
      "cell_type": "code",
      "execution_count": 10,
      "metadata": {
        "colab": {
          "base_uri": "https://localhost:8080/"
        },
        "id": "uEsbeeS8TgnN",
        "outputId": "ade3cd9c-e1ed-4125-f416-12f3938ddd9b"
      },
      "outputs": [
        {
          "output_type": "stream",
          "name": "stdout",
          "text": [
            "Fri Mar  1 20:24:11 2024       \n",
            "+---------------------------------------------------------------------------------------+\n",
            "| NVIDIA-SMI 535.104.05             Driver Version: 535.104.05   CUDA Version: 12.2     |\n",
            "|-----------------------------------------+----------------------+----------------------+\n",
            "| GPU  Name                 Persistence-M | Bus-Id        Disp.A | Volatile Uncorr. ECC |\n",
            "| Fan  Temp   Perf          Pwr:Usage/Cap |         Memory-Usage | GPU-Util  Compute M. |\n",
            "|                                         |                      |               MIG M. |\n",
            "|=========================================+======================+======================|\n",
            "|   0  NVIDIA A100-SXM4-40GB          Off | 00000000:00:04.0 Off |                    0 |\n",
            "| N/A   31C    P0              49W / 400W |  17091MiB / 40960MiB |      0%      Default |\n",
            "|                                         |                      |             Disabled |\n",
            "+-----------------------------------------+----------------------+----------------------+\n",
            "                                                                                         \n",
            "+---------------------------------------------------------------------------------------+\n",
            "| Processes:                                                                            |\n",
            "|  GPU   GI   CI        PID   Type   Process name                            GPU Memory |\n",
            "|        ID   ID                                                             Usage      |\n",
            "|=======================================================================================|\n",
            "+---------------------------------------------------------------------------------------+\n"
          ]
        }
      ],
      "source": [
        "gpu_info = !nvidia-smi\n",
        "gpu_info = '\\n'.join(gpu_info)\n",
        "if gpu_info.find('failed') >= 0:\n",
        "  print('Not connected to a GPU')\n",
        "else:\n",
        "  print(gpu_info)"
      ]
    },
    {
      "cell_type": "code",
      "source": [
        "from psutil import virtual_memory\n",
        "ram_gb = virtual_memory().total / 1e9\n",
        "print('Your runtime has {:.1f} gigabytes of available RAM\\n'.format(ram_gb))\n",
        "\n",
        "if ram_gb < 20:\n",
        "  print('Not using a high-RAM runtime')\n",
        "else:\n",
        "  print('You are using a high-RAM runtime!')"
      ],
      "metadata": {
        "colab": {
          "base_uri": "https://localhost:8080/"
        },
        "id": "jzgwzitbToDp",
        "outputId": "7318585e-e374-462f-9b05-3e6c8f2a6fa6"
      },
      "execution_count": 11,
      "outputs": [
        {
          "output_type": "stream",
          "name": "stdout",
          "text": [
            "Your runtime has 89.6 gigabytes of available RAM\n",
            "\n",
            "You are using a high-RAM runtime!\n"
          ]
        }
      ]
    },
    {
      "cell_type": "code",
      "source": [
        "from tensorflow.keras.layers import Input, Dense, MaxPooling2D, Reshape, Conv2D, Flatten, Conv2DTranspose, UpSampling2D, Cropping2D\n",
        "from tensorflow.keras.models import Model\n",
        "from tensorflow.keras.callbacks import EarlyStopping, ModelCheckpoint, ReduceLROnPlateau\n",
        "import numpy as np\n",
        "import tensorflow as tf\n",
        "import os\n",
        "from concurrent.futures import ThreadPoolExecutor\n",
        "from tqdm import tqdm"
      ],
      "metadata": {
        "id": "XYVFQ4VwTqhK"
      },
      "execution_count": 12,
      "outputs": []
    },
    {
      "cell_type": "code",
      "source": [
        "x_train = np.load('/content/drive/MyDrive/ITESO/Eight Semester-Primavera 2024/Deep Learning/Audio-denoising-autoencoder/data/noise_on_audio/processed_data/train/clean_hybrid_representations.npy')\n",
        "x_train_noisy = np.load('/content/drive/MyDrive/ITESO/Eight Semester-Primavera 2024/Deep Learning/Audio-denoising-autoencoder/data/noise_on_audio/processed_data/train/noisy_hybrid_representations.npy')"
      ],
      "metadata": {
        "id": "QUx36_VWTr8l"
      },
      "execution_count": 13,
      "outputs": []
    },
    {
      "cell_type": "code",
      "source": [
        "x_train.shape, x_train_noisy.shape"
      ],
      "metadata": {
        "colab": {
          "base_uri": "https://localhost:8080/"
        },
        "id": "TdAJEWHYTxWj",
        "outputId": "00f2d1e4-6bac-4c94-9789-220f0b0cfbf9"
      },
      "execution_count": 14,
      "outputs": [
        {
          "output_type": "execute_result",
          "data": {
            "text/plain": [
              "((36000, 148, 109), (36000, 148, 109))"
            ]
          },
          "metadata": {},
          "execution_count": 14
        }
      ]
    },
    {
      "cell_type": "code",
      "source": [
        "x_train.shape[1:], x_train_noisy.shape[1:]"
      ],
      "metadata": {
        "colab": {
          "base_uri": "https://localhost:8080/"
        },
        "id": "uNcQUs2sTy7Z",
        "outputId": "b68bbe40-3c99-4178-8a92-0a6f8b90b1d0"
      },
      "execution_count": 15,
      "outputs": [
        {
          "output_type": "execute_result",
          "data": {
            "text/plain": [
              "((148, 109), (148, 109))"
            ]
          },
          "metadata": {},
          "execution_count": 15
        }
      ]
    },
    {
      "cell_type": "code",
      "source": [
        "x_train = np.expand_dims(x_train, axis=-1)\n",
        "x_train_noisy = np.expand_dims(x_train_noisy, axis=-1)\n",
        "x_train.shape[1:], x_train_noisy.shape[1:]"
      ],
      "metadata": {
        "colab": {
          "base_uri": "https://localhost:8080/"
        },
        "id": "INgTdufZT1SY",
        "outputId": "d347f877-fb72-4e21-da10-d08f03d03698"
      },
      "execution_count": 16,
      "outputs": [
        {
          "output_type": "execute_result",
          "data": {
            "text/plain": [
              "((148, 109, 1), (148, 109, 1))"
            ]
          },
          "metadata": {},
          "execution_count": 16
        }
      ]
    },
    {
      "cell_type": "code",
      "source": [
        "def create_autoencoder(input_shape):\n",
        "    input_layer = Input(shape=input_shape) # (148, 109, 1)\n",
        "\n",
        "    x = Conv2D(32, (3, 3), activation='relu', padding='same')(input_layer) # (148, 109, 32)\n",
        "    x = MaxPooling2D((2, 2), padding='same')(x) # (74, 55, 32)\n",
        "    x = Conv2D(64, (3, 3), activation='relu', padding='same')(x) # (74, 55, 64)\n",
        "    x = MaxPooling2D((2, 2), padding='same')(x) # (37, 28, 64)\n",
        "    x = Flatten()(x) # (66304)\n",
        "\n",
        "    latent_space = Dense(128, activation='relu')(x) # (128)\n",
        "\n",
        "    x = Dense(37 * 28 * 64, activation='relu')(latent_space) # (37 * 28 * 64) = 66304\n",
        "    x = Reshape((37, 28, 64))(x) # (37, 28, 64)\n",
        "    x = Conv2DTranspose(64, (3, 3), activation='relu', padding='same')(x) # (37, 28, 64)\n",
        "    x = UpSampling2D((2, 2))(x) # (74, 56, 64)\n",
        "    x = Cropping2D(cropping=((0, 0), (0, 1)))(x) # (74, 55, 64)\n",
        "    x = Conv2DTranspose(32, (3, 3), activation='relu', padding='same')(x) # (74, 55, 32)\n",
        "    x = UpSampling2D((2, 2))(x) #  # (148, 110, 32)\n",
        "    x = Cropping2D(cropping=((0, 0), (0, 1)))(x) # (148, 109, 32)\n",
        "    output_layer = Conv2DTranspose(1, (3, 3), activation='sigmoid', padding='same')(x) # (148, 109, 1)\n",
        "\n",
        "    autoencoder = Model(inputs=input_layer, outputs=output_layer)\n",
        "    autoencoder.compile(optimizer='adam', loss='mean_squared_error')\n",
        "\n",
        "    return autoencoder\n",
        "\n",
        "# Create autoencoder model\n",
        "input_shape = x_train.shape[1:]\n",
        "autoencoder = create_autoencoder(input_shape)\n",
        "print(autoencoder.summary())"
      ],
      "metadata": {
        "colab": {
          "base_uri": "https://localhost:8080/"
        },
        "id": "Gnci0d3rT28W",
        "outputId": "4f2ad94c-1b46-437b-ab61-490daddcb70d"
      },
      "execution_count": 17,
      "outputs": [
        {
          "output_type": "stream",
          "name": "stdout",
          "text": [
            "Model: \"model_1\"\n",
            "_________________________________________________________________\n",
            " Layer (type)                Output Shape              Param #   \n",
            "=================================================================\n",
            " input_2 (InputLayer)        [(None, 148, 109, 1)]     0         \n",
            "                                                                 \n",
            " conv2d_2 (Conv2D)           (None, 148, 109, 32)      320       \n",
            "                                                                 \n",
            " max_pooling2d_2 (MaxPoolin  (None, 74, 55, 32)        0         \n",
            " g2D)                                                            \n",
            "                                                                 \n",
            " conv2d_3 (Conv2D)           (None, 74, 55, 64)        18496     \n",
            "                                                                 \n",
            " max_pooling2d_3 (MaxPoolin  (None, 37, 28, 64)        0         \n",
            " g2D)                                                            \n",
            "                                                                 \n",
            " flatten_1 (Flatten)         (None, 66304)             0         \n",
            "                                                                 \n",
            " dense_2 (Dense)             (None, 128)               8487040   \n",
            "                                                                 \n",
            " dense_3 (Dense)             (None, 66304)             8553216   \n",
            "                                                                 \n",
            " reshape_1 (Reshape)         (None, 37, 28, 64)        0         \n",
            "                                                                 \n",
            " conv2d_transpose_3 (Conv2D  (None, 37, 28, 64)        36928     \n",
            " Transpose)                                                      \n",
            "                                                                 \n",
            " up_sampling2d_2 (UpSamplin  (None, 74, 56, 64)        0         \n",
            " g2D)                                                            \n",
            "                                                                 \n",
            " cropping2d_2 (Cropping2D)   (None, 74, 55, 64)        0         \n",
            "                                                                 \n",
            " conv2d_transpose_4 (Conv2D  (None, 74, 55, 32)        18464     \n",
            " Transpose)                                                      \n",
            "                                                                 \n",
            " up_sampling2d_3 (UpSamplin  (None, 148, 110, 32)      0         \n",
            " g2D)                                                            \n",
            "                                                                 \n",
            " cropping2d_3 (Cropping2D)   (None, 148, 109, 32)      0         \n",
            "                                                                 \n",
            " conv2d_transpose_5 (Conv2D  (None, 148, 109, 1)       289       \n",
            " Transpose)                                                      \n",
            "                                                                 \n",
            "=================================================================\n",
            "Total params: 17114753 (65.29 MB)\n",
            "Trainable params: 17114753 (65.29 MB)\n",
            "Non-trainable params: 0 (0.00 Byte)\n",
            "_________________________________________________________________\n",
            "None\n"
          ]
        }
      ]
    },
    {
      "cell_type": "code",
      "source": [
        "early_stopping = EarlyStopping(\n",
        "    monitor='val_loss',  # Monitor validation loss\n",
        "    patience=6,           # Number of epochs with no improvement after which training will be stopped\n",
        "    restore_best_weights=True  # Restore the best weights observed during training\n",
        ")\n",
        "# Define model checkpointing\n",
        "checkpoint_path = \"/content/drive/MyDrive/ITESO/Eight Semester-Primavera 2024/Deep Learning/Audio-denoising-autoencoder/data/noise_on_audio/processed_data/autoencoder_model_audio.keras\"\n",
        "model_checkpoint = ModelCheckpoint(\n",
        "    filepath=checkpoint_path,   # Filepath to save the model\n",
        "    monitor='val_loss',         # Monitor validation loss\n",
        "    save_best_only=True,        # Save only the best model based on the monitored quantity\n",
        "    verbose=1                   # Print messages about the saving process\n",
        ")\n",
        "\n",
        "reduce_lr = ReduceLROnPlateau(monitor='val_loss', factor=0.2,\n",
        "                              patience=5, min_lr=0.001)\n",
        "\n",
        "# Train the autoencoder with early stopping and model checkpointing\n",
        "history = autoencoder.fit(\n",
        "    x_train_noisy,\n",
        "    x_train,\n",
        "    epochs=200,               # Increase the maximum number of epochs\n",
        "    batch_size=32,\n",
        "    validation_data=(x_train_noisy, x_train),\n",
        "    callbacks=[early_stopping, model_checkpoint, reduce_lr]  # Pass the EarlyStopping and ModelCheckpoint callbacks to the fit method\n",
        ")"
      ],
      "metadata": {
        "colab": {
          "base_uri": "https://localhost:8080/"
        },
        "id": "QZn51BiFT4_S",
        "outputId": "b0c2e8ff-4044-4e0f-835a-71e6c5e5a398"
      },
      "execution_count": 18,
      "outputs": [
        {
          "output_type": "stream",
          "name": "stdout",
          "text": [
            "Epoch 1/200\n",
            "1123/1125 [============================>.] - ETA: 0s - loss: 1233.1654\n",
            "Epoch 1: val_loss improved from inf to 1233.45642, saving model to /content/drive/MyDrive/ITESO/Eight Semester-Primavera 2024/Deep Learning/Audio-denoising-autoencoder/data/noise_on_audio/processed_data/autoencoder_model_audio.keras\n",
            "1125/1125 [==============================] - 23s 18ms/step - loss: 1233.5508 - val_loss: 1233.4564 - lr: 0.0010\n",
            "Epoch 2/200\n",
            "1125/1125 [==============================] - ETA: 0s - loss: 1233.4232\n",
            "Epoch 2: val_loss improved from 1233.45642 to 1233.39771, saving model to /content/drive/MyDrive/ITESO/Eight Semester-Primavera 2024/Deep Learning/Audio-denoising-autoencoder/data/noise_on_audio/processed_data/autoencoder_model_audio.keras\n",
            "1125/1125 [==============================] - 14s 12ms/step - loss: 1233.4232 - val_loss: 1233.3977 - lr: 0.0010\n",
            "Epoch 3/200\n",
            "1121/1125 [============================>.] - ETA: 0s - loss: 1233.2439\n",
            "Epoch 3: val_loss improved from 1233.39771 to 1233.38049, saving model to /content/drive/MyDrive/ITESO/Eight Semester-Primavera 2024/Deep Learning/Audio-denoising-autoencoder/data/noise_on_audio/processed_data/autoencoder_model_audio.keras\n",
            "1125/1125 [==============================] - 14s 12ms/step - loss: 1233.3883 - val_loss: 1233.3805 - lr: 0.0010\n",
            "Epoch 4/200\n",
            "1121/1125 [============================>.] - ETA: 0s - loss: 1234.2017\n",
            "Epoch 4: val_loss improved from 1233.38049 to 1233.36646, saving model to /content/drive/MyDrive/ITESO/Eight Semester-Primavera 2024/Deep Learning/Audio-denoising-autoencoder/data/noise_on_audio/processed_data/autoencoder_model_audio.keras\n",
            "1125/1125 [==============================] - 14s 12ms/step - loss: 1233.3733 - val_loss: 1233.3665 - lr: 0.0010\n",
            "Epoch 5/200\n",
            "1122/1125 [============================>.] - ETA: 0s - loss: 1232.4159\n",
            "Epoch 5: val_loss improved from 1233.36646 to 1233.36060, saving model to /content/drive/MyDrive/ITESO/Eight Semester-Primavera 2024/Deep Learning/Audio-denoising-autoencoder/data/noise_on_audio/processed_data/autoencoder_model_audio.keras\n",
            "1125/1125 [==============================] - 14s 12ms/step - loss: 1233.3658 - val_loss: 1233.3606 - lr: 0.0010\n",
            "Epoch 6/200\n",
            "1120/1125 [============================>.] - ETA: 0s - loss: 1233.8400\n",
            "Epoch 6: val_loss improved from 1233.36060 to 1233.35767, saving model to /content/drive/MyDrive/ITESO/Eight Semester-Primavera 2024/Deep Learning/Audio-denoising-autoencoder/data/noise_on_audio/processed_data/autoencoder_model_audio.keras\n",
            "1125/1125 [==============================] - 14s 12ms/step - loss: 1233.3615 - val_loss: 1233.3577 - lr: 0.0010\n",
            "Epoch 7/200\n",
            "1121/1125 [============================>.] - ETA: 0s - loss: 1233.6833\n",
            "Epoch 7: val_loss improved from 1233.35767 to 1233.35437, saving model to /content/drive/MyDrive/ITESO/Eight Semester-Primavera 2024/Deep Learning/Audio-denoising-autoencoder/data/noise_on_audio/processed_data/autoencoder_model_audio.keras\n",
            "1125/1125 [==============================] - 14s 12ms/step - loss: 1233.3558 - val_loss: 1233.3544 - lr: 0.0010\n",
            "Epoch 8/200\n",
            "1123/1125 [============================>.] - ETA: 0s - loss: 1233.7023\n",
            "Epoch 8: val_loss improved from 1233.35437 to 1233.35168, saving model to /content/drive/MyDrive/ITESO/Eight Semester-Primavera 2024/Deep Learning/Audio-denoising-autoencoder/data/noise_on_audio/processed_data/autoencoder_model_audio.keras\n",
            "1125/1125 [==============================] - 14s 12ms/step - loss: 1233.3521 - val_loss: 1233.3517 - lr: 0.0010\n",
            "Epoch 9/200\n",
            "1120/1125 [============================>.] - ETA: 0s - loss: 1232.5526\n",
            "Epoch 9: val_loss improved from 1233.35168 to 1233.35022, saving model to /content/drive/MyDrive/ITESO/Eight Semester-Primavera 2024/Deep Learning/Audio-denoising-autoencoder/data/noise_on_audio/processed_data/autoencoder_model_audio.keras\n",
            "1125/1125 [==============================] - 14s 12ms/step - loss: 1233.3510 - val_loss: 1233.3502 - lr: 0.0010\n",
            "Epoch 10/200\n",
            "1124/1125 [============================>.] - ETA: 0s - loss: 1233.8535\n",
            "Epoch 10: val_loss improved from 1233.35022 to 1233.34668, saving model to /content/drive/MyDrive/ITESO/Eight Semester-Primavera 2024/Deep Learning/Audio-denoising-autoencoder/data/noise_on_audio/processed_data/autoencoder_model_audio.keras\n",
            "1125/1125 [==============================] - 14s 12ms/step - loss: 1233.3484 - val_loss: 1233.3467 - lr: 0.0010\n",
            "Epoch 11/200\n",
            "1125/1125 [==============================] - ETA: 0s - loss: 1233.3459\n",
            "Epoch 11: val_loss improved from 1233.34668 to 1233.34497, saving model to /content/drive/MyDrive/ITESO/Eight Semester-Primavera 2024/Deep Learning/Audio-denoising-autoencoder/data/noise_on_audio/processed_data/autoencoder_model_audio.keras\n",
            "1125/1125 [==============================] - 14s 12ms/step - loss: 1233.3459 - val_loss: 1233.3450 - lr: 0.0010\n",
            "Epoch 12/200\n",
            "1124/1125 [============================>.] - ETA: 0s - loss: 1232.9364\n",
            "Epoch 12: val_loss improved from 1233.34497 to 1233.34424, saving model to /content/drive/MyDrive/ITESO/Eight Semester-Primavera 2024/Deep Learning/Audio-denoising-autoencoder/data/noise_on_audio/processed_data/autoencoder_model_audio.keras\n",
            "1125/1125 [==============================] - 14s 12ms/step - loss: 1233.3444 - val_loss: 1233.3442 - lr: 0.0010\n",
            "Epoch 13/200\n",
            "1120/1125 [============================>.] - ETA: 0s - loss: 1234.4603\n",
            "Epoch 13: val_loss improved from 1233.34424 to 1233.34216, saving model to /content/drive/MyDrive/ITESO/Eight Semester-Primavera 2024/Deep Learning/Audio-denoising-autoencoder/data/noise_on_audio/processed_data/autoencoder_model_audio.keras\n",
            "1125/1125 [==============================] - 14s 12ms/step - loss: 1233.3433 - val_loss: 1233.3422 - lr: 0.0010\n",
            "Epoch 14/200\n",
            "1125/1125 [==============================] - ETA: 0s - loss: 1233.3423\n",
            "Epoch 14: val_loss improved from 1233.34216 to 1233.34119, saving model to /content/drive/MyDrive/ITESO/Eight Semester-Primavera 2024/Deep Learning/Audio-denoising-autoencoder/data/noise_on_audio/processed_data/autoencoder_model_audio.keras\n",
            "1125/1125 [==============================] - 14s 12ms/step - loss: 1233.3423 - val_loss: 1233.3412 - lr: 0.0010\n",
            "Epoch 15/200\n",
            "1120/1125 [============================>.] - ETA: 0s - loss: 1234.2621\n",
            "Epoch 15: val_loss did not improve from 1233.34119\n",
            "1125/1125 [==============================] - 13s 11ms/step - loss: 1233.3408 - val_loss: 1233.3418 - lr: 0.0010\n",
            "Epoch 16/200\n",
            "1123/1125 [============================>.] - ETA: 0s - loss: 1233.2235\n",
            "Epoch 16: val_loss improved from 1233.34119 to 1233.33972, saving model to /content/drive/MyDrive/ITESO/Eight Semester-Primavera 2024/Deep Learning/Audio-denoising-autoencoder/data/noise_on_audio/processed_data/autoencoder_model_audio.keras\n",
            "1125/1125 [==============================] - 14s 12ms/step - loss: 1233.3402 - val_loss: 1233.3397 - lr: 0.0010\n",
            "Epoch 17/200\n",
            "1121/1125 [============================>.] - ETA: 0s - loss: 1234.5963\n",
            "Epoch 17: val_loss improved from 1233.33972 to 1233.33875, saving model to /content/drive/MyDrive/ITESO/Eight Semester-Primavera 2024/Deep Learning/Audio-denoising-autoencoder/data/noise_on_audio/processed_data/autoencoder_model_audio.keras\n",
            "1125/1125 [==============================] - 14s 12ms/step - loss: 1233.3401 - val_loss: 1233.3387 - lr: 0.0010\n",
            "Epoch 18/200\n",
            "1124/1125 [============================>.] - ETA: 0s - loss: 1233.5557\n",
            "Epoch 18: val_loss improved from 1233.33875 to 1233.33777, saving model to /content/drive/MyDrive/ITESO/Eight Semester-Primavera 2024/Deep Learning/Audio-denoising-autoencoder/data/noise_on_audio/processed_data/autoencoder_model_audio.keras\n",
            "1125/1125 [==============================] - 14s 12ms/step - loss: 1233.3397 - val_loss: 1233.3378 - lr: 0.0010\n",
            "Epoch 19/200\n",
            "1121/1125 [============================>.] - ETA: 0s - loss: 1234.0114\n",
            "Epoch 19: val_loss improved from 1233.33777 to 1233.33740, saving model to /content/drive/MyDrive/ITESO/Eight Semester-Primavera 2024/Deep Learning/Audio-denoising-autoencoder/data/noise_on_audio/processed_data/autoencoder_model_audio.keras\n",
            "1125/1125 [==============================] - 14s 12ms/step - loss: 1233.3395 - val_loss: 1233.3374 - lr: 0.0010\n",
            "Epoch 20/200\n",
            "1121/1125 [============================>.] - ETA: 0s - loss: 1233.2291\n",
            "Epoch 20: val_loss did not improve from 1233.33740\n",
            "1125/1125 [==============================] - 13s 11ms/step - loss: 1233.3390 - val_loss: 1233.3403 - lr: 0.0010\n",
            "Epoch 21/200\n",
            "1120/1125 [============================>.] - ETA: 0s - loss: 1233.7173\n",
            "Epoch 21: val_loss improved from 1233.33740 to 1233.33582, saving model to /content/drive/MyDrive/ITESO/Eight Semester-Primavera 2024/Deep Learning/Audio-denoising-autoencoder/data/noise_on_audio/processed_data/autoencoder_model_audio.keras\n",
            "1125/1125 [==============================] - 14s 12ms/step - loss: 1233.3386 - val_loss: 1233.3358 - lr: 0.0010\n",
            "Epoch 22/200\n",
            "1121/1125 [============================>.] - ETA: 0s - loss: 1232.0610\n",
            "Epoch 22: val_loss did not improve from 1233.33582\n",
            "1125/1125 [==============================] - 13s 11ms/step - loss: 1233.3369 - val_loss: 1233.3363 - lr: 0.0010\n",
            "Epoch 23/200\n",
            "1119/1125 [============================>.] - ETA: 0s - loss: 1234.6315\n",
            "Epoch 23: val_loss did not improve from 1233.33582\n",
            "1125/1125 [==============================] - 13s 11ms/step - loss: 1233.3368 - val_loss: 1233.3358 - lr: 0.0010\n",
            "Epoch 24/200\n",
            "1125/1125 [==============================] - ETA: 0s - loss: 1233.3356\n",
            "Epoch 24: val_loss did not improve from 1233.33582\n",
            "1125/1125 [==============================] - 13s 11ms/step - loss: 1233.3356 - val_loss: 1233.3369 - lr: 0.0010\n",
            "Epoch 25/200\n",
            "1120/1125 [============================>.] - ETA: 0s - loss: 1233.4827\n",
            "Epoch 25: val_loss improved from 1233.33582 to 1233.33447, saving model to /content/drive/MyDrive/ITESO/Eight Semester-Primavera 2024/Deep Learning/Audio-denoising-autoencoder/data/noise_on_audio/processed_data/autoencoder_model_audio.keras\n",
            "1125/1125 [==============================] - 14s 12ms/step - loss: 1233.3361 - val_loss: 1233.3345 - lr: 0.0010\n",
            "Epoch 26/200\n",
            "1120/1125 [============================>.] - ETA: 0s - loss: 1234.2366\n",
            "Epoch 26: val_loss improved from 1233.33447 to 1233.33411, saving model to /content/drive/MyDrive/ITESO/Eight Semester-Primavera 2024/Deep Learning/Audio-denoising-autoencoder/data/noise_on_audio/processed_data/autoencoder_model_audio.keras\n",
            "1125/1125 [==============================] - 14s 12ms/step - loss: 1233.3352 - val_loss: 1233.3341 - lr: 0.0010\n",
            "Epoch 27/200\n",
            "1121/1125 [============================>.] - ETA: 0s - loss: 1233.2430\n",
            "Epoch 27: val_loss improved from 1233.33411 to 1233.33313, saving model to /content/drive/MyDrive/ITESO/Eight Semester-Primavera 2024/Deep Learning/Audio-denoising-autoencoder/data/noise_on_audio/processed_data/autoencoder_model_audio.keras\n",
            "1125/1125 [==============================] - 14s 12ms/step - loss: 1233.3348 - val_loss: 1233.3331 - lr: 0.0010\n",
            "Epoch 28/200\n",
            "1121/1125 [============================>.] - ETA: 0s - loss: 1232.6327\n",
            "Epoch 28: val_loss improved from 1233.33313 to 1233.33264, saving model to /content/drive/MyDrive/ITESO/Eight Semester-Primavera 2024/Deep Learning/Audio-denoising-autoencoder/data/noise_on_audio/processed_data/autoencoder_model_audio.keras\n",
            "1125/1125 [==============================] - 14s 12ms/step - loss: 1233.3346 - val_loss: 1233.3326 - lr: 0.0010\n",
            "Epoch 29/200\n",
            "1122/1125 [============================>.] - ETA: 0s - loss: 1234.0176\n",
            "Epoch 29: val_loss improved from 1233.33264 to 1233.33240, saving model to /content/drive/MyDrive/ITESO/Eight Semester-Primavera 2024/Deep Learning/Audio-denoising-autoencoder/data/noise_on_audio/processed_data/autoencoder_model_audio.keras\n",
            "1125/1125 [==============================] - 14s 12ms/step - loss: 1233.3347 - val_loss: 1233.3324 - lr: 0.0010\n",
            "Epoch 30/200\n",
            "1124/1125 [============================>.] - ETA: 0s - loss: 1232.8563\n",
            "Epoch 30: val_loss improved from 1233.33240 to 1233.33228, saving model to /content/drive/MyDrive/ITESO/Eight Semester-Primavera 2024/Deep Learning/Audio-denoising-autoencoder/data/noise_on_audio/processed_data/autoencoder_model_audio.keras\n",
            "1125/1125 [==============================] - 14s 12ms/step - loss: 1233.3340 - val_loss: 1233.3323 - lr: 0.0010\n",
            "Epoch 31/200\n",
            "1121/1125 [============================>.] - ETA: 0s - loss: 1232.4349\n",
            "Epoch 31: val_loss improved from 1233.33228 to 1233.33203, saving model to /content/drive/MyDrive/ITESO/Eight Semester-Primavera 2024/Deep Learning/Audio-denoising-autoencoder/data/noise_on_audio/processed_data/autoencoder_model_audio.keras\n",
            "1125/1125 [==============================] - 14s 12ms/step - loss: 1233.3328 - val_loss: 1233.3320 - lr: 0.0010\n",
            "Epoch 32/200\n",
            "1121/1125 [============================>.] - ETA: 0s - loss: 1233.0459\n",
            "Epoch 32: val_loss improved from 1233.33203 to 1233.33191, saving model to /content/drive/MyDrive/ITESO/Eight Semester-Primavera 2024/Deep Learning/Audio-denoising-autoencoder/data/noise_on_audio/processed_data/autoencoder_model_audio.keras\n",
            "1125/1125 [==============================] - 14s 12ms/step - loss: 1233.3348 - val_loss: 1233.3319 - lr: 0.0010\n",
            "Epoch 33/200\n",
            "1123/1125 [============================>.] - ETA: 0s - loss: 1233.4667\n",
            "Epoch 33: val_loss improved from 1233.33191 to 1233.33154, saving model to /content/drive/MyDrive/ITESO/Eight Semester-Primavera 2024/Deep Learning/Audio-denoising-autoencoder/data/noise_on_audio/processed_data/autoencoder_model_audio.keras\n",
            "1125/1125 [==============================] - 14s 12ms/step - loss: 1233.3330 - val_loss: 1233.3315 - lr: 0.0010\n",
            "Epoch 34/200\n",
            "1121/1125 [============================>.] - ETA: 0s - loss: 1233.6609\n",
            "Epoch 34: val_loss did not improve from 1233.33154\n",
            "1125/1125 [==============================] - 13s 12ms/step - loss: 1233.3331 - val_loss: 1233.3319 - lr: 0.0010\n",
            "Epoch 35/200\n",
            "1121/1125 [============================>.] - ETA: 0s - loss: 1233.7513\n",
            "Epoch 35: val_loss improved from 1233.33154 to 1233.33118, saving model to /content/drive/MyDrive/ITESO/Eight Semester-Primavera 2024/Deep Learning/Audio-denoising-autoencoder/data/noise_on_audio/processed_data/autoencoder_model_audio.keras\n",
            "1125/1125 [==============================] - 14s 12ms/step - loss: 1233.3319 - val_loss: 1233.3312 - lr: 0.0010\n",
            "Epoch 36/200\n",
            "1119/1125 [============================>.] - ETA: 0s - loss: 1233.8152\n",
            "Epoch 36: val_loss did not improve from 1233.33118\n",
            "1125/1125 [==============================] - 13s 11ms/step - loss: 1233.3323 - val_loss: 1233.3317 - lr: 0.0010\n",
            "Epoch 37/200\n",
            "1123/1125 [============================>.] - ETA: 0s - loss: 1233.8124\n",
            "Epoch 37: val_loss improved from 1233.33118 to 1233.33093, saving model to /content/drive/MyDrive/ITESO/Eight Semester-Primavera 2024/Deep Learning/Audio-denoising-autoencoder/data/noise_on_audio/processed_data/autoencoder_model_audio.keras\n",
            "1125/1125 [==============================] - 14s 12ms/step - loss: 1233.3317 - val_loss: 1233.3309 - lr: 0.0010\n",
            "Epoch 38/200\n",
            "1125/1125 [==============================] - ETA: 0s - loss: 1233.3314\n",
            "Epoch 38: val_loss improved from 1233.33093 to 1233.33057, saving model to /content/drive/MyDrive/ITESO/Eight Semester-Primavera 2024/Deep Learning/Audio-denoising-autoencoder/data/noise_on_audio/processed_data/autoencoder_model_audio.keras\n",
            "1125/1125 [==============================] - 14s 12ms/step - loss: 1233.3314 - val_loss: 1233.3306 - lr: 0.0010\n",
            "Epoch 39/200\n",
            "1122/1125 [============================>.] - ETA: 0s - loss: 1234.1075\n",
            "Epoch 39: val_loss did not improve from 1233.33057\n",
            "1125/1125 [==============================] - 13s 11ms/step - loss: 1233.3309 - val_loss: 1233.3312 - lr: 0.0010\n",
            "Epoch 40/200\n",
            "1122/1125 [============================>.] - ETA: 0s - loss: 1233.8141\n",
            "Epoch 40: val_loss improved from 1233.33057 to 1233.32983, saving model to /content/drive/MyDrive/ITESO/Eight Semester-Primavera 2024/Deep Learning/Audio-denoising-autoencoder/data/noise_on_audio/processed_data/autoencoder_model_audio.keras\n",
            "1125/1125 [==============================] - 14s 12ms/step - loss: 1233.3328 - val_loss: 1233.3298 - lr: 0.0010\n",
            "Epoch 41/200\n",
            "1123/1125 [============================>.] - ETA: 0s - loss: 1233.5980\n",
            "Epoch 41: val_loss did not improve from 1233.32983\n",
            "1125/1125 [==============================] - 13s 11ms/step - loss: 1233.3322 - val_loss: 1233.3307 - lr: 0.0010\n",
            "Epoch 42/200\n",
            "1125/1125 [==============================] - ETA: 0s - loss: 1233.3297\n",
            "Epoch 42: val_loss did not improve from 1233.32983\n",
            "1125/1125 [==============================] - 13s 11ms/step - loss: 1233.3297 - val_loss: 1233.3298 - lr: 0.0010\n",
            "Epoch 43/200\n",
            "1124/1125 [============================>.] - ETA: 0s - loss: 1233.7269\n",
            "Epoch 43: val_loss improved from 1233.32983 to 1233.32910, saving model to /content/drive/MyDrive/ITESO/Eight Semester-Primavera 2024/Deep Learning/Audio-denoising-autoencoder/data/noise_on_audio/processed_data/autoencoder_model_audio.keras\n",
            "1125/1125 [==============================] - 14s 12ms/step - loss: 1233.3300 - val_loss: 1233.3291 - lr: 0.0010\n",
            "Epoch 44/200\n",
            "1119/1125 [============================>.] - ETA: 0s - loss: 1232.6117\n",
            "Epoch 44: val_loss improved from 1233.32910 to 1233.32898, saving model to /content/drive/MyDrive/ITESO/Eight Semester-Primavera 2024/Deep Learning/Audio-denoising-autoencoder/data/noise_on_audio/processed_data/autoencoder_model_audio.keras\n",
            "1125/1125 [==============================] - 14s 12ms/step - loss: 1233.3314 - val_loss: 1233.3290 - lr: 0.0010\n",
            "Epoch 45/200\n",
            "1125/1125 [==============================] - ETA: 0s - loss: 1233.3301\n",
            "Epoch 45: val_loss did not improve from 1233.32898\n",
            "1125/1125 [==============================] - 13s 11ms/step - loss: 1233.3301 - val_loss: 1233.3291 - lr: 0.0010\n",
            "Epoch 46/200\n",
            "1119/1125 [============================>.] - ETA: 0s - loss: 1233.9128\n",
            "Epoch 46: val_loss improved from 1233.32898 to 1233.32874, saving model to /content/drive/MyDrive/ITESO/Eight Semester-Primavera 2024/Deep Learning/Audio-denoising-autoencoder/data/noise_on_audio/processed_data/autoencoder_model_audio.keras\n",
            "1125/1125 [==============================] - 14s 12ms/step - loss: 1233.3296 - val_loss: 1233.3287 - lr: 0.0010\n",
            "Epoch 47/200\n",
            "1119/1125 [============================>.] - ETA: 0s - loss: 1234.4426\n",
            "Epoch 47: val_loss did not improve from 1233.32874\n",
            "1125/1125 [==============================] - 13s 12ms/step - loss: 1233.3311 - val_loss: 1233.3287 - lr: 0.0010\n",
            "Epoch 48/200\n",
            "1121/1125 [============================>.] - ETA: 0s - loss: 1234.2275\n",
            "Epoch 48: val_loss improved from 1233.32874 to 1233.32861, saving model to /content/drive/MyDrive/ITESO/Eight Semester-Primavera 2024/Deep Learning/Audio-denoising-autoencoder/data/noise_on_audio/processed_data/autoencoder_model_audio.keras\n",
            "1125/1125 [==============================] - 14s 12ms/step - loss: 1233.3296 - val_loss: 1233.3286 - lr: 0.0010\n",
            "Epoch 49/200\n",
            "1120/1125 [============================>.] - ETA: 0s - loss: 1232.8179\n",
            "Epoch 49: val_loss did not improve from 1233.32861\n",
            "1125/1125 [==============================] - 13s 12ms/step - loss: 1233.3297 - val_loss: 1233.3357 - lr: 0.0010\n",
            "Epoch 50/200\n",
            "1119/1125 [============================>.] - ETA: 0s - loss: 1233.1068\n",
            "Epoch 50: val_loss improved from 1233.32861 to 1233.32764, saving model to /content/drive/MyDrive/ITESO/Eight Semester-Primavera 2024/Deep Learning/Audio-denoising-autoencoder/data/noise_on_audio/processed_data/autoencoder_model_audio.keras\n",
            "1125/1125 [==============================] - 14s 12ms/step - loss: 1233.3293 - val_loss: 1233.3276 - lr: 0.0010\n",
            "Epoch 51/200\n",
            "1122/1125 [============================>.] - ETA: 0s - loss: 1232.8556\n",
            "Epoch 51: val_loss did not improve from 1233.32764\n",
            "1125/1125 [==============================] - 13s 11ms/step - loss: 1233.3298 - val_loss: 1233.3278 - lr: 0.0010\n",
            "Epoch 52/200\n",
            "1125/1125 [==============================] - ETA: 0s - loss: 1233.3282\n",
            "Epoch 52: val_loss improved from 1233.32764 to 1233.32751, saving model to /content/drive/MyDrive/ITESO/Eight Semester-Primavera 2024/Deep Learning/Audio-denoising-autoencoder/data/noise_on_audio/processed_data/autoencoder_model_audio.keras\n",
            "1125/1125 [==============================] - 14s 12ms/step - loss: 1233.3282 - val_loss: 1233.3275 - lr: 0.0010\n",
            "Epoch 53/200\n",
            "1125/1125 [==============================] - ETA: 0s - loss: 1233.3285\n",
            "Epoch 53: val_loss improved from 1233.32751 to 1233.32715, saving model to /content/drive/MyDrive/ITESO/Eight Semester-Primavera 2024/Deep Learning/Audio-denoising-autoencoder/data/noise_on_audio/processed_data/autoencoder_model_audio.keras\n",
            "1125/1125 [==============================] - 14s 12ms/step - loss: 1233.3285 - val_loss: 1233.3271 - lr: 0.0010\n",
            "Epoch 54/200\n",
            "1120/1125 [============================>.] - ETA: 0s - loss: 1233.6299\n",
            "Epoch 54: val_loss did not improve from 1233.32715\n",
            "1125/1125 [==============================] - 13s 11ms/step - loss: 1233.3284 - val_loss: 1233.3309 - lr: 0.0010\n",
            "Epoch 55/200\n",
            "1122/1125 [============================>.] - ETA: 0s - loss: 1232.9561\n",
            "Epoch 55: val_loss did not improve from 1233.32715\n",
            "1125/1125 [==============================] - 13s 11ms/step - loss: 1233.3284 - val_loss: 1233.3273 - lr: 0.0010\n",
            "Epoch 56/200\n",
            "1119/1125 [============================>.] - ETA: 0s - loss: 1233.6476\n",
            "Epoch 56: val_loss did not improve from 1233.32715\n",
            "1125/1125 [==============================] - 13s 11ms/step - loss: 1233.3279 - val_loss: 1233.3271 - lr: 0.0010\n",
            "Epoch 57/200\n",
            "1124/1125 [============================>.] - ETA: 0s - loss: 1233.0269\n",
            "Epoch 57: val_loss did not improve from 1233.32715\n",
            "1125/1125 [==============================] - 13s 11ms/step - loss: 1233.3275 - val_loss: 1233.3271 - lr: 0.0010\n",
            "Epoch 58/200\n",
            "1119/1125 [============================>.] - ETA: 0s - loss: 1235.2279\n",
            "Epoch 58: val_loss improved from 1233.32715 to 1233.32678, saving model to /content/drive/MyDrive/ITESO/Eight Semester-Primavera 2024/Deep Learning/Audio-denoising-autoencoder/data/noise_on_audio/processed_data/autoencoder_model_audio.keras\n",
            "1125/1125 [==============================] - 14s 12ms/step - loss: 1233.3284 - val_loss: 1233.3268 - lr: 0.0010\n",
            "Epoch 59/200\n",
            "1125/1125 [==============================] - ETA: 0s - loss: 1233.3284\n",
            "Epoch 59: val_loss improved from 1233.32678 to 1233.32629, saving model to /content/drive/MyDrive/ITESO/Eight Semester-Primavera 2024/Deep Learning/Audio-denoising-autoencoder/data/noise_on_audio/processed_data/autoencoder_model_audio.keras\n",
            "1125/1125 [==============================] - 14s 12ms/step - loss: 1233.3284 - val_loss: 1233.3263 - lr: 0.0010\n",
            "Epoch 60/200\n",
            "1123/1125 [============================>.] - ETA: 0s - loss: 1233.7021\n",
            "Epoch 60: val_loss did not improve from 1233.32629\n",
            "1125/1125 [==============================] - 13s 11ms/step - loss: 1233.3286 - val_loss: 1233.3265 - lr: 0.0010\n",
            "Epoch 61/200\n",
            "1119/1125 [============================>.] - ETA: 0s - loss: 1231.9611\n",
            "Epoch 61: val_loss did not improve from 1233.32629\n",
            "1125/1125 [==============================] - 13s 11ms/step - loss: 1233.3287 - val_loss: 1233.3276 - lr: 0.0010\n",
            "Epoch 62/200\n",
            "1123/1125 [============================>.] - ETA: 0s - loss: 1233.4460\n",
            "Epoch 62: val_loss improved from 1233.32629 to 1233.32605, saving model to /content/drive/MyDrive/ITESO/Eight Semester-Primavera 2024/Deep Learning/Audio-denoising-autoencoder/data/noise_on_audio/processed_data/autoencoder_model_audio.keras\n",
            "1125/1125 [==============================] - 14s 12ms/step - loss: 1233.3282 - val_loss: 1233.3260 - lr: 0.0010\n",
            "Epoch 63/200\n",
            "1125/1125 [==============================] - ETA: 0s - loss: 1233.3278\n",
            "Epoch 63: val_loss did not improve from 1233.32605\n",
            "1125/1125 [==============================] - 13s 11ms/step - loss: 1233.3278 - val_loss: 1233.3383 - lr: 0.0010\n",
            "Epoch 64/200\n",
            "1124/1125 [============================>.] - ETA: 0s - loss: 1233.8293\n",
            "Epoch 64: val_loss did not improve from 1233.32605\n",
            "1125/1125 [==============================] - 13s 11ms/step - loss: 1233.3286 - val_loss: 1233.3260 - lr: 0.0010\n",
            "Epoch 65/200\n",
            "1121/1125 [============================>.] - ETA: 0s - loss: 1234.2632\n",
            "Epoch 65: val_loss improved from 1233.32605 to 1233.32532, saving model to /content/drive/MyDrive/ITESO/Eight Semester-Primavera 2024/Deep Learning/Audio-denoising-autoencoder/data/noise_on_audio/processed_data/autoencoder_model_audio.keras\n",
            "1125/1125 [==============================] - 14s 12ms/step - loss: 1233.3239 - val_loss: 1233.3253 - lr: 0.0010\n",
            "Epoch 66/200\n",
            "1125/1125 [==============================] - ETA: 0s - loss: 1233.3273\n",
            "Epoch 66: val_loss did not improve from 1233.32532\n",
            "1125/1125 [==============================] - 13s 11ms/step - loss: 1233.3273 - val_loss: 1233.3319 - lr: 0.0010\n",
            "Epoch 67/200\n",
            "1124/1125 [============================>.] - ETA: 0s - loss: 1233.2152\n",
            "Epoch 67: val_loss did not improve from 1233.32532\n",
            "1125/1125 [==============================] - 13s 11ms/step - loss: 1233.3269 - val_loss: 1233.3259 - lr: 0.0010\n",
            "Epoch 68/200\n",
            "1120/1125 [============================>.] - ETA: 0s - loss: 1233.8281\n",
            "Epoch 68: val_loss did not improve from 1233.32532\n",
            "1125/1125 [==============================] - 13s 11ms/step - loss: 1233.3267 - val_loss: 1233.3258 - lr: 0.0010\n",
            "Epoch 69/200\n",
            "1124/1125 [============================>.] - ETA: 0s - loss: 1233.0483\n",
            "Epoch 69: val_loss did not improve from 1233.32532\n",
            "1125/1125 [==============================] - 13s 11ms/step - loss: 1233.3286 - val_loss: 1233.3315 - lr: 0.0010\n",
            "Epoch 70/200\n",
            "1120/1125 [============================>.] - ETA: 0s - loss: 1234.2992\n",
            "Epoch 70: val_loss improved from 1233.32532 to 1233.32483, saving model to /content/drive/MyDrive/ITESO/Eight Semester-Primavera 2024/Deep Learning/Audio-denoising-autoencoder/data/noise_on_audio/processed_data/autoencoder_model_audio.keras\n",
            "1125/1125 [==============================] - 14s 12ms/step - loss: 1233.3279 - val_loss: 1233.3248 - lr: 0.0010\n",
            "Epoch 71/200\n",
            "1123/1125 [============================>.] - ETA: 0s - loss: 1233.2681\n",
            "Epoch 71: val_loss did not improve from 1233.32483\n",
            "1125/1125 [==============================] - 13s 11ms/step - loss: 1233.3275 - val_loss: 1233.3250 - lr: 0.0010\n",
            "Epoch 72/200\n",
            "1119/1125 [============================>.] - ETA: 0s - loss: 1233.9161\n",
            "Epoch 72: val_loss did not improve from 1233.32483\n",
            "1125/1125 [==============================] - 13s 11ms/step - loss: 1233.3263 - val_loss: 1233.3262 - lr: 0.0010\n",
            "Epoch 73/200\n",
            "1122/1125 [============================>.] - ETA: 0s - loss: 1233.8876\n",
            "Epoch 73: val_loss did not improve from 1233.32483\n",
            "1125/1125 [==============================] - 13s 11ms/step - loss: 1233.3263 - val_loss: 1233.3248 - lr: 0.0010\n",
            "Epoch 74/200\n",
            "1125/1125 [==============================] - ETA: 0s - loss: 1233.3258\n",
            "Epoch 74: val_loss did not improve from 1233.32483\n",
            "1125/1125 [==============================] - 13s 12ms/step - loss: 1233.3258 - val_loss: 1233.3257 - lr: 0.0010\n",
            "Epoch 75/200\n",
            "1119/1125 [============================>.] - ETA: 0s - loss: 1232.9226\n",
            "Epoch 75: val_loss did not improve from 1233.32483\n",
            "1125/1125 [==============================] - 13s 11ms/step - loss: 1233.3251 - val_loss: 1233.3248 - lr: 0.0010\n",
            "Epoch 76/200\n",
            "1122/1125 [============================>.] - ETA: 0s - loss: 1232.9773\n",
            "Epoch 76: val_loss did not improve from 1233.32483\n",
            "1125/1125 [==============================] - 13s 12ms/step - loss: 1233.3256 - val_loss: 1233.3248 - lr: 0.0010\n"
          ]
        }
      ]
    }
  ]
}